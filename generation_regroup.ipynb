{
 "cells": [
  {
   "cell_type": "code",
   "execution_count": 1,
   "id": "f67f63fe",
   "metadata": {},
   "outputs": [
    {
     "name": "stdout",
     "output_type": "stream",
     "text": [
      " Cleaned generation data saved to 'cleaned_generation_data.csv'\n"
     ]
    }
   ],
   "source": [
    "import pandas as pd\n",
    "\n",
    "\n",
    "df = pd.read_excel(\"Bigdata-gen.xlsx\")\n",
    "\n",
    "df_long = df.melt(id_vars=[\"Energy type\", \"State\"], \n",
    "                  var_name=\"Year\", \n",
    "                  value_name=\"Generation (MU)\")\n",
    "\n",
    "df_long[\"Source\"] = df_long[\"Energy type\"].str.extract(r\"^(.*) - Generation\")\n",
    "\n",
    "df_long = df_long.drop(columns=[\"Energy type\"])\n",
    "df_long = df_long.rename(columns={\"Generation (MU)\": \"Generation (GWh)\"})\n",
    "\n",
    "\n",
    "df_long = df_long[[\"Year\", \"State\", \"Source\", \"Generation (GWh)\"]]\n",
    "\n",
    "\n",
    "df_long.to_csv(\"cleaned_generation_data.csv\", index=False)\n",
    "\n",
    "print(\" Cleaned generation data saved to 'cleaned_generation_data.csv'\")\n"
   ]
  }
 ],
 "metadata": {
  "kernelspec": {
   "display_name": "Python 3",
   "language": "python",
   "name": "python3"
  },
  "language_info": {
   "codemirror_mode": {
    "name": "ipython",
    "version": 3
   },
   "file_extension": ".py",
   "mimetype": "text/x-python",
   "name": "python",
   "nbconvert_exporter": "python",
   "pygments_lexer": "ipython3",
   "version": "3.11.9"
  }
 },
 "nbformat": 4,
 "nbformat_minor": 5
}
