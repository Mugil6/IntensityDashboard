{
 "cells": [
  {
   "cell_type": "code",
   "execution_count": null,
   "id": "238a5fca",
   "metadata": {},
   "outputs": [
    {
     "name": "stdout",
     "output_type": "stream",
     "text": [
      "File saved as 'cleaned_emissions_data.csv'\n"
     ]
    }
   ],
   "source": [
    "import pandas as pd\n",
    "\n",
    "df = pd.read_excel(\"Bigdata.xlsx\", sheet_name=\"Sheet1\")\n",
    "\n",
    "\n",
    "year_col = df['Year']\n",
    "\n",
    "\n",
    "records = []\n",
    "\n",
    "for i in range(1, df.shape[1], 3):\n",
    "    try:\n",
    "        state_col = df.iloc[:, i]\n",
    "        oil_col = df.iloc[:, i+1]\n",
    "        coal_col = df.iloc[:, i+2]\n",
    "    except IndexError:\n",
    "        break \n",
    "\n",
    "    for j in range(len(df)):\n",
    "        year = year_col[j]\n",
    "        state = state_col[j]\n",
    "\n",
    "        oil_val = oil_col[j]\n",
    "        coal_val = coal_col[j]\n",
    "\n",
    "        if pd.notna(oil_val):\n",
    "            records.append({\n",
    "                \"Year\": year,\n",
    "                \"State\": state,\n",
    "                \"Fuel Type\": \"Oil & Gas\",\n",
    "                \"CO2 Emissions (MT)\": oil_val\n",
    "            })\n",
    "        if pd.notna(coal_val):\n",
    "            records.append({\n",
    "                \"Year\": year,\n",
    "                \"State\": state,\n",
    "                \"Fuel Type\": \"Coal\",\n",
    "                \"CO2 Emissions (MT)\": coal_val\n",
    "            })\n",
    "\n",
    "df_long = pd.DataFrame(records)\n",
    "\n",
    "df_long.to_csv(\"cleaned_emissions_data.csv\", index=False)\n",
    "\n",
    "print(\"File saved as 'cleaned_emissions_data.csv'\")\n"
   ]
  }
 ],
 "metadata": {
  "kernelspec": {
   "display_name": "Python 3",
   "language": "python",
   "name": "python3"
  },
  "language_info": {
   "codemirror_mode": {
    "name": "ipython",
    "version": 3
   },
   "file_extension": ".py",
   "mimetype": "text/x-python",
   "name": "python",
   "nbconvert_exporter": "python",
   "pygments_lexer": "ipython3",
   "version": "3.11.9"
  }
 },
 "nbformat": 4,
 "nbformat_minor": 5
}
